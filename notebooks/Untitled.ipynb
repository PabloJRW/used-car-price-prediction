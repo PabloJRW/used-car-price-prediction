{
 "cells": [
  {
   "cell_type": "code",
   "execution_count": 1,
   "id": "dfeb5467-5620-45b9-b960-4e927c022dad",
   "metadata": {},
   "outputs": [],
   "source": [
    "import os\n",
    "import numpy as np\n",
    "import pandas as pd\n",
    "import matplotlib.pyplot as plt\n",
    "import seaborn as sns\n",
    "from sklearn.model_selection import train_test_split\n",
    "from sklearn.feature_extraction import DictVectorizer\n",
    "from sklearn.linear_model import LogisticRegression\n",
    "from sklearn.metrics import accuracy_score\n",
    "from sklearn.metrics import roc_auc_score"
   ]
  },
  {
   "cell_type": "code",
   "execution_count": 2,
   "id": "96d4f51e-0493-4930-b642-5fe9e2497a72",
   "metadata": {},
   "outputs": [
    {
     "data": {
      "text/html": [
       "<div>\n",
       "<style scoped>\n",
       "    .dataframe tbody tr th:only-of-type {\n",
       "        vertical-align: middle;\n",
       "    }\n",
       "\n",
       "    .dataframe tbody tr th {\n",
       "        vertical-align: top;\n",
       "    }\n",
       "\n",
       "    .dataframe thead th {\n",
       "        text-align: right;\n",
       "    }\n",
       "</style>\n",
       "<table border=\"1\" class=\"dataframe\">\n",
       "  <thead>\n",
       "    <tr style=\"text-align: right;\">\n",
       "      <th></th>\n",
       "      <th>Make</th>\n",
       "      <th>Model</th>\n",
       "      <th>Year</th>\n",
       "      <th>Engine Fuel Type</th>\n",
       "      <th>Engine HP</th>\n",
       "      <th>Engine Cylinders</th>\n",
       "      <th>Transmission Type</th>\n",
       "      <th>Driven_Wheels</th>\n",
       "      <th>Number of Doors</th>\n",
       "      <th>Market Category</th>\n",
       "      <th>Vehicle Size</th>\n",
       "      <th>Vehicle Style</th>\n",
       "      <th>highway MPG</th>\n",
       "      <th>city mpg</th>\n",
       "      <th>Popularity</th>\n",
       "      <th>MSRP</th>\n",
       "    </tr>\n",
       "  </thead>\n",
       "  <tbody>\n",
       "    <tr>\n",
       "      <th>9675</th>\n",
       "      <td>Mercedes-Benz</td>\n",
       "      <td>SLK-Class</td>\n",
       "      <td>2014</td>\n",
       "      <td>premium unleaded (required)</td>\n",
       "      <td>201.0</td>\n",
       "      <td>4.0</td>\n",
       "      <td>MANUAL</td>\n",
       "      <td>rear wheel drive</td>\n",
       "      <td>2.0</td>\n",
       "      <td>Luxury</td>\n",
       "      <td>Compact</td>\n",
       "      <td>Convertible</td>\n",
       "      <td>32</td>\n",
       "      <td>22</td>\n",
       "      <td>617</td>\n",
       "      <td>43525</td>\n",
       "    </tr>\n",
       "    <tr>\n",
       "      <th>1240</th>\n",
       "      <td>Honda</td>\n",
       "      <td>Accord</td>\n",
       "      <td>2016</td>\n",
       "      <td>regular unleaded</td>\n",
       "      <td>185.0</td>\n",
       "      <td>4.0</td>\n",
       "      <td>AUTOMATIC</td>\n",
       "      <td>front wheel drive</td>\n",
       "      <td>2.0</td>\n",
       "      <td>NaN</td>\n",
       "      <td>Midsize</td>\n",
       "      <td>Coupe</td>\n",
       "      <td>35</td>\n",
       "      <td>26</td>\n",
       "      <td>2202</td>\n",
       "      <td>27850</td>\n",
       "    </tr>\n",
       "    <tr>\n",
       "      <th>6884</th>\n",
       "      <td>Lincoln</td>\n",
       "      <td>MKX</td>\n",
       "      <td>2016</td>\n",
       "      <td>regular unleaded</td>\n",
       "      <td>303.0</td>\n",
       "      <td>6.0</td>\n",
       "      <td>AUTOMATIC</td>\n",
       "      <td>front wheel drive</td>\n",
       "      <td>4.0</td>\n",
       "      <td>Crossover,Luxury</td>\n",
       "      <td>Midsize</td>\n",
       "      <td>4dr SUV</td>\n",
       "      <td>26</td>\n",
       "      <td>17</td>\n",
       "      <td>61</td>\n",
       "      <td>45315</td>\n",
       "    </tr>\n",
       "    <tr>\n",
       "      <th>7203</th>\n",
       "      <td>Volkswagen</td>\n",
       "      <td>New Beetle</td>\n",
       "      <td>2008</td>\n",
       "      <td>regular unleaded</td>\n",
       "      <td>150.0</td>\n",
       "      <td>5.0</td>\n",
       "      <td>AUTOMATIC</td>\n",
       "      <td>front wheel drive</td>\n",
       "      <td>2.0</td>\n",
       "      <td>Hatchback</td>\n",
       "      <td>Compact</td>\n",
       "      <td>2dr Hatchback</td>\n",
       "      <td>29</td>\n",
       "      <td>20</td>\n",
       "      <td>873</td>\n",
       "      <td>20990</td>\n",
       "    </tr>\n",
       "    <tr>\n",
       "      <th>865</th>\n",
       "      <td>Saab</td>\n",
       "      <td>9-5</td>\n",
       "      <td>2010</td>\n",
       "      <td>premium unleaded (recommended)</td>\n",
       "      <td>300.0</td>\n",
       "      <td>6.0</td>\n",
       "      <td>AUTOMATIC</td>\n",
       "      <td>all wheel drive</td>\n",
       "      <td>4.0</td>\n",
       "      <td>Luxury,Performance</td>\n",
       "      <td>Large</td>\n",
       "      <td>Sedan</td>\n",
       "      <td>27</td>\n",
       "      <td>16</td>\n",
       "      <td>376</td>\n",
       "      <td>49165</td>\n",
       "    </tr>\n",
       "    <tr>\n",
       "      <th>20</th>\n",
       "      <td>Audi</td>\n",
       "      <td>100</td>\n",
       "      <td>1992</td>\n",
       "      <td>regular unleaded</td>\n",
       "      <td>172.0</td>\n",
       "      <td>6.0</td>\n",
       "      <td>MANUAL</td>\n",
       "      <td>front wheel drive</td>\n",
       "      <td>4.0</td>\n",
       "      <td>Luxury</td>\n",
       "      <td>Midsize</td>\n",
       "      <td>Sedan</td>\n",
       "      <td>24</td>\n",
       "      <td>17</td>\n",
       "      <td>3105</td>\n",
       "      <td>2000</td>\n",
       "    </tr>\n",
       "    <tr>\n",
       "      <th>10226</th>\n",
       "      <td>Toyota</td>\n",
       "      <td>Tacoma</td>\n",
       "      <td>2017</td>\n",
       "      <td>regular unleaded</td>\n",
       "      <td>159.0</td>\n",
       "      <td>4.0</td>\n",
       "      <td>AUTOMATIC</td>\n",
       "      <td>rear wheel drive</td>\n",
       "      <td>4.0</td>\n",
       "      <td>NaN</td>\n",
       "      <td>Compact</td>\n",
       "      <td>Crew Cab Pickup</td>\n",
       "      <td>23</td>\n",
       "      <td>19</td>\n",
       "      <td>2031</td>\n",
       "      <td>24950</td>\n",
       "    </tr>\n",
       "    <tr>\n",
       "      <th>2980</th>\n",
       "      <td>Chevrolet</td>\n",
       "      <td>Corvette</td>\n",
       "      <td>2015</td>\n",
       "      <td>premium unleaded (required)</td>\n",
       "      <td>650.0</td>\n",
       "      <td>8.0</td>\n",
       "      <td>MANUAL</td>\n",
       "      <td>rear wheel drive</td>\n",
       "      <td>2.0</td>\n",
       "      <td>Factory Tuner,High-Performance</td>\n",
       "      <td>Compact</td>\n",
       "      <td>Coupe</td>\n",
       "      <td>22</td>\n",
       "      <td>15</td>\n",
       "      <td>1385</td>\n",
       "      <td>82270</td>\n",
       "    </tr>\n",
       "    <tr>\n",
       "      <th>5096</th>\n",
       "      <td>Infiniti</td>\n",
       "      <td>G Coupe</td>\n",
       "      <td>2013</td>\n",
       "      <td>premium unleaded (recommended)</td>\n",
       "      <td>330.0</td>\n",
       "      <td>6.0</td>\n",
       "      <td>AUTOMATIC</td>\n",
       "      <td>rear wheel drive</td>\n",
       "      <td>2.0</td>\n",
       "      <td>Luxury,Performance</td>\n",
       "      <td>Midsize</td>\n",
       "      <td>Coupe</td>\n",
       "      <td>27</td>\n",
       "      <td>19</td>\n",
       "      <td>190</td>\n",
       "      <td>40400</td>\n",
       "    </tr>\n",
       "    <tr>\n",
       "      <th>3581</th>\n",
       "      <td>Land Rover</td>\n",
       "      <td>Discovery Sport</td>\n",
       "      <td>2015</td>\n",
       "      <td>premium unleaded (recommended)</td>\n",
       "      <td>240.0</td>\n",
       "      <td>4.0</td>\n",
       "      <td>AUTOMATIC</td>\n",
       "      <td>all wheel drive</td>\n",
       "      <td>4.0</td>\n",
       "      <td>Crossover,Luxury</td>\n",
       "      <td>Midsize</td>\n",
       "      <td>4dr SUV</td>\n",
       "      <td>26</td>\n",
       "      <td>20</td>\n",
       "      <td>258</td>\n",
       "      <td>37070</td>\n",
       "    </tr>\n",
       "  </tbody>\n",
       "</table>\n",
       "</div>"
      ],
      "text/plain": [
       "                Make            Model  Year                Engine Fuel Type  \\\n",
       "9675   Mercedes-Benz        SLK-Class  2014     premium unleaded (required)   \n",
       "1240           Honda           Accord  2016                regular unleaded   \n",
       "6884         Lincoln              MKX  2016                regular unleaded   \n",
       "7203      Volkswagen       New Beetle  2008                regular unleaded   \n",
       "865             Saab              9-5  2010  premium unleaded (recommended)   \n",
       "20              Audi              100  1992                regular unleaded   \n",
       "10226         Toyota           Tacoma  2017                regular unleaded   \n",
       "2980       Chevrolet         Corvette  2015     premium unleaded (required)   \n",
       "5096        Infiniti          G Coupe  2013  premium unleaded (recommended)   \n",
       "3581      Land Rover  Discovery Sport  2015  premium unleaded (recommended)   \n",
       "\n",
       "       Engine HP  Engine Cylinders Transmission Type      Driven_Wheels  \\\n",
       "9675       201.0               4.0            MANUAL   rear wheel drive   \n",
       "1240       185.0               4.0         AUTOMATIC  front wheel drive   \n",
       "6884       303.0               6.0         AUTOMATIC  front wheel drive   \n",
       "7203       150.0               5.0         AUTOMATIC  front wheel drive   \n",
       "865        300.0               6.0         AUTOMATIC    all wheel drive   \n",
       "20         172.0               6.0            MANUAL  front wheel drive   \n",
       "10226      159.0               4.0         AUTOMATIC   rear wheel drive   \n",
       "2980       650.0               8.0            MANUAL   rear wheel drive   \n",
       "5096       330.0               6.0         AUTOMATIC   rear wheel drive   \n",
       "3581       240.0               4.0         AUTOMATIC    all wheel drive   \n",
       "\n",
       "       Number of Doors                 Market Category Vehicle Size  \\\n",
       "9675               2.0                          Luxury      Compact   \n",
       "1240               2.0                             NaN      Midsize   \n",
       "6884               4.0                Crossover,Luxury      Midsize   \n",
       "7203               2.0                       Hatchback      Compact   \n",
       "865                4.0              Luxury,Performance        Large   \n",
       "20                 4.0                          Luxury      Midsize   \n",
       "10226              4.0                             NaN      Compact   \n",
       "2980               2.0  Factory Tuner,High-Performance      Compact   \n",
       "5096               2.0              Luxury,Performance      Midsize   \n",
       "3581               4.0                Crossover,Luxury      Midsize   \n",
       "\n",
       "         Vehicle Style  highway MPG  city mpg  Popularity   MSRP  \n",
       "9675       Convertible           32        22         617  43525  \n",
       "1240             Coupe           35        26        2202  27850  \n",
       "6884           4dr SUV           26        17          61  45315  \n",
       "7203     2dr Hatchback           29        20         873  20990  \n",
       "865              Sedan           27        16         376  49165  \n",
       "20               Sedan           24        17        3105   2000  \n",
       "10226  Crew Cab Pickup           23        19        2031  24950  \n",
       "2980             Coupe           22        15        1385  82270  \n",
       "5096             Coupe           27        19         190  40400  \n",
       "3581           4dr SUV           26        20         258  37070  "
      ]
     },
     "execution_count": 2,
     "metadata": {},
     "output_type": "execute_result"
    }
   ],
   "source": [
    "csv_path = os.path.join('..','datasets','raw','data.csv')\n",
    "df = pd.read_csv(csv_path)\n",
    "df.sample(10)"
   ]
  },
  {
   "cell_type": "code",
   "execution_count": 3,
   "id": "d2519fab-1a10-4a94-abad-b54b9cad80f4",
   "metadata": {},
   "outputs": [
    {
     "data": {
      "text/plain": [
       "11914"
      ]
     },
     "execution_count": 3,
     "metadata": {},
     "output_type": "execute_result"
    }
   ],
   "source": [
    "len(df)"
   ]
  },
  {
   "cell_type": "code",
   "execution_count": 4,
   "id": "80af7338-4a46-4e83-add8-f34ae9386a2d",
   "metadata": {},
   "outputs": [
    {
     "data": {
      "text/plain": [
       "Make                  object\n",
       "Model                 object\n",
       "Year                   int64\n",
       "Engine Fuel Type      object\n",
       "Engine HP            float64\n",
       "Engine Cylinders     float64\n",
       "Transmission Type     object\n",
       "Driven_Wheels         object\n",
       "Number of Doors      float64\n",
       "Market Category       object\n",
       "Vehicle Size          object\n",
       "Vehicle Style         object\n",
       "highway MPG            int64\n",
       "city mpg               int64\n",
       "Popularity             int64\n",
       "MSRP                   int64\n",
       "dtype: object"
      ]
     },
     "execution_count": 4,
     "metadata": {},
     "output_type": "execute_result"
    }
   ],
   "source": [
    "df.dtypes"
   ]
  },
  {
   "cell_type": "code",
   "execution_count": 5,
   "id": "0d8e3c57-66bd-4476-8527-7432d5a67187",
   "metadata": {},
   "outputs": [
    {
     "data": {
      "text/html": [
       "<div>\n",
       "<style scoped>\n",
       "    .dataframe tbody tr th:only-of-type {\n",
       "        vertical-align: middle;\n",
       "    }\n",
       "\n",
       "    .dataframe tbody tr th {\n",
       "        vertical-align: top;\n",
       "    }\n",
       "\n",
       "    .dataframe thead th {\n",
       "        text-align: right;\n",
       "    }\n",
       "</style>\n",
       "<table border=\"1\" class=\"dataframe\">\n",
       "  <thead>\n",
       "    <tr style=\"text-align: right;\">\n",
       "      <th></th>\n",
       "      <th>make</th>\n",
       "      <th>model</th>\n",
       "      <th>year</th>\n",
       "      <th>engine_fuel_type</th>\n",
       "      <th>engine_hp</th>\n",
       "      <th>engine_cylinders</th>\n",
       "      <th>transmission_type</th>\n",
       "      <th>driven_wheels</th>\n",
       "      <th>number_of_doors</th>\n",
       "      <th>market_category</th>\n",
       "      <th>vehicle_size</th>\n",
       "      <th>vehicle_style</th>\n",
       "      <th>highway_mpg</th>\n",
       "      <th>city_mpg</th>\n",
       "      <th>popularity</th>\n",
       "      <th>msrp</th>\n",
       "    </tr>\n",
       "  </thead>\n",
       "  <tbody>\n",
       "    <tr>\n",
       "      <th>6772</th>\n",
       "      <td>acura</td>\n",
       "      <td>mdx</td>\n",
       "      <td>2016</td>\n",
       "      <td>premium_unleaded_(recommended)</td>\n",
       "      <td>290.0</td>\n",
       "      <td>6.0</td>\n",
       "      <td>automatic</td>\n",
       "      <td>front_wheel_drive</td>\n",
       "      <td>4.0</td>\n",
       "      <td>crossover,luxury</td>\n",
       "      <td>midsize</td>\n",
       "      <td>4dr_suv</td>\n",
       "      <td>27</td>\n",
       "      <td>20</td>\n",
       "      <td>204</td>\n",
       "      <td>53230</td>\n",
       "    </tr>\n",
       "    <tr>\n",
       "      <th>11111</th>\n",
       "      <td>volvo</td>\n",
       "      <td>v50</td>\n",
       "      <td>2010</td>\n",
       "      <td>premium_unleaded_(recommended)</td>\n",
       "      <td>227.0</td>\n",
       "      <td>5.0</td>\n",
       "      <td>manual</td>\n",
       "      <td>all_wheel_drive</td>\n",
       "      <td>4.0</td>\n",
       "      <td>luxury</td>\n",
       "      <td>compact</td>\n",
       "      <td>wagon</td>\n",
       "      <td>26</td>\n",
       "      <td>20</td>\n",
       "      <td>870</td>\n",
       "      <td>33050</td>\n",
       "    </tr>\n",
       "    <tr>\n",
       "      <th>114</th>\n",
       "      <td>mazda</td>\n",
       "      <td>2</td>\n",
       "      <td>2012</td>\n",
       "      <td>regular_unleaded</td>\n",
       "      <td>100.0</td>\n",
       "      <td>4.0</td>\n",
       "      <td>automatic</td>\n",
       "      <td>front_wheel_drive</td>\n",
       "      <td>4.0</td>\n",
       "      <td>hatchback</td>\n",
       "      <td>compact</td>\n",
       "      <td>4dr_hatchback</td>\n",
       "      <td>34</td>\n",
       "      <td>28</td>\n",
       "      <td>586</td>\n",
       "      <td>16860</td>\n",
       "    </tr>\n",
       "    <tr>\n",
       "      <th>2130</th>\n",
       "      <td>volkswagen</td>\n",
       "      <td>cabrio</td>\n",
       "      <td>2001</td>\n",
       "      <td>regular_unleaded</td>\n",
       "      <td>115.0</td>\n",
       "      <td>4.0</td>\n",
       "      <td>manual</td>\n",
       "      <td>front_wheel_drive</td>\n",
       "      <td>2.0</td>\n",
       "      <td>NaN</td>\n",
       "      <td>compact</td>\n",
       "      <td>convertible</td>\n",
       "      <td>28</td>\n",
       "      <td>21</td>\n",
       "      <td>873</td>\n",
       "      <td>19600</td>\n",
       "    </tr>\n",
       "    <tr>\n",
       "      <th>7209</th>\n",
       "      <td>volkswagen</td>\n",
       "      <td>new_beetle</td>\n",
       "      <td>2009</td>\n",
       "      <td>regular_unleaded</td>\n",
       "      <td>150.0</td>\n",
       "      <td>5.0</td>\n",
       "      <td>automatic</td>\n",
       "      <td>front_wheel_drive</td>\n",
       "      <td>2.0</td>\n",
       "      <td>NaN</td>\n",
       "      <td>compact</td>\n",
       "      <td>convertible</td>\n",
       "      <td>28</td>\n",
       "      <td>20</td>\n",
       "      <td>873</td>\n",
       "      <td>26990</td>\n",
       "    </tr>\n",
       "  </tbody>\n",
       "</table>\n",
       "</div>"
      ],
      "text/plain": [
       "             make       model  year                engine_fuel_type  \\\n",
       "6772        acura         mdx  2016  premium_unleaded_(recommended)   \n",
       "11111       volvo         v50  2010  premium_unleaded_(recommended)   \n",
       "114         mazda           2  2012                regular_unleaded   \n",
       "2130   volkswagen      cabrio  2001                regular_unleaded   \n",
       "7209   volkswagen  new_beetle  2009                regular_unleaded   \n",
       "\n",
       "       engine_hp  engine_cylinders transmission_type      driven_wheels  \\\n",
       "6772       290.0               6.0         automatic  front_wheel_drive   \n",
       "11111      227.0               5.0            manual    all_wheel_drive   \n",
       "114        100.0               4.0         automatic  front_wheel_drive   \n",
       "2130       115.0               4.0            manual  front_wheel_drive   \n",
       "7209       150.0               5.0         automatic  front_wheel_drive   \n",
       "\n",
       "       number_of_doors   market_category vehicle_size  vehicle_style  \\\n",
       "6772               4.0  crossover,luxury      midsize        4dr_suv   \n",
       "11111              4.0            luxury      compact          wagon   \n",
       "114                4.0         hatchback      compact  4dr_hatchback   \n",
       "2130               2.0               NaN      compact    convertible   \n",
       "7209               2.0               NaN      compact    convertible   \n",
       "\n",
       "       highway_mpg  city_mpg  popularity   msrp  \n",
       "6772            27        20         204  53230  \n",
       "11111           26        20         870  33050  \n",
       "114             34        28         586  16860  \n",
       "2130            28        21         873  19600  \n",
       "7209            28        20         873  26990  "
      ]
     },
     "execution_count": 5,
     "metadata": {},
     "output_type": "execute_result"
    }
   ],
   "source": [
    "#my_variables = ['Make','Model','Year','Engine HP','Engine Cylinders','Transmission Type','Vehicle Style','highway MPG','city mpg','MSRP']\n",
    "cars = df.copy()\n",
    "\n",
    "# Lowercase the column names and replace spaces with underscores\n",
    "cars.columns = cars.columns.str.lower().str.replace(' ','_')\n",
    "# Lista de la variables categóricas\n",
    "categorical = list(cars.dtypes[cars.dtypes == 'object'].index)\n",
    "# Lista de las variables numéricas\n",
    "numerical = list(cars.dtypes[cars.dtypes != 'object'].index)\n",
    "\n",
    "\n",
    "for feature in categorical:\n",
    "    cars[feature] = cars[feature].str.lower().str.replace(' ', '_')\n",
    "    \n",
    "cars.sample(5)"
   ]
  },
  {
   "cell_type": "code",
   "execution_count": 6,
   "id": "25e2b03e-a135-4e67-9493-e4ebe0421c99",
   "metadata": {},
   "outputs": [
    {
     "data": {
      "text/plain": [
       "make                    0\n",
       "model                   0\n",
       "year                    0\n",
       "engine_fuel_type        3\n",
       "engine_hp              69\n",
       "engine_cylinders       30\n",
       "transmission_type       0\n",
       "driven_wheels           0\n",
       "number_of_doors         6\n",
       "market_category      3742\n",
       "vehicle_size            0\n",
       "vehicle_style           0\n",
       "highway_mpg             0\n",
       "city_mpg                0\n",
       "popularity              0\n",
       "msrp                    0\n",
       "dtype: int64"
      ]
     },
     "execution_count": 6,
     "metadata": {},
     "output_type": "execute_result"
    }
   ],
   "source": [
    "# Valores pérdidos\n",
    "cars.isnull().sum()"
   ]
  },
  {
   "cell_type": "code",
   "execution_count": 7,
   "id": "24b4a3c8-aa2d-411a-b760-62ddf978e48d",
   "metadata": {},
   "outputs": [],
   "source": [
    "# Relleno valores pérdidos con 0\n",
    "cars[['engine_hp','engine_cylinders']] = cars[['engine_hp','engine_cylinders']].fillna(value=0)\n",
    "\n",
    "categorical.remove('market_category')"
   ]
  },
  {
   "cell_type": "code",
   "execution_count": 8,
   "id": "a897be04-2e93-4847-9a89-76a07109c209",
   "metadata": {},
   "outputs": [
    {
     "data": {
      "text/plain": [
       "['make',\n",
       " 'model',\n",
       " 'engine_fuel_type',\n",
       " 'transmission_type',\n",
       " 'driven_wheels',\n",
       " 'vehicle_size',\n",
       " 'vehicle_style']"
      ]
     },
     "execution_count": 8,
     "metadata": {},
     "output_type": "execute_result"
    }
   ],
   "source": [
    "categorical"
   ]
  },
  {
   "cell_type": "code",
   "execution_count": 18,
   "id": "c1296c67-e7dc-47d5-b31b-e6ed9c85735f",
   "metadata": {},
   "outputs": [
    {
     "data": {
      "text/plain": [
       "above_average\n",
       "1    6241\n",
       "0    1925\n",
       "Name: count, dtype: int64"
      ]
     },
     "metadata": {},
     "output_type": "display_data"
    }
   ],
   "source": [
    "# Creación de una nueva variables objetivo\n",
    "\n",
    "# Valor de la media de msrp\n",
    "msrp_mean = cars['msrp'].mean()\n",
    "\n",
    "# Precio por debajo de la media\n",
    "cars['above_average'] = (cars['msrp'] <= msrp_mean).astype(int)\n",
    "\n",
    "# Distribución\n",
    "cars['above_average'].value_counts()"
   ]
  },
  {
   "cell_type": "code",
   "execution_count": 10,
   "id": "5881b3bd-5a5f-4101-ad19-202138461ad7",
   "metadata": {},
   "outputs": [
    {
     "data": {
      "text/plain": [
       "make                  48\n",
       "model                914\n",
       "engine_fuel_type      10\n",
       "transmission_type      5\n",
       "driven_wheels          4\n",
       "vehicle_size           3\n",
       "vehicle_style         16\n",
       "dtype: int64"
      ]
     },
     "execution_count": 10,
     "metadata": {},
     "output_type": "execute_result"
    }
   ],
   "source": [
    "cars[categorical].nunique()"
   ]
  },
  {
   "cell_type": "code",
   "execution_count": 21,
   "id": "f0abd3c5-3a87-4ba7-8706-e3438948fcc6",
   "metadata": {},
   "outputs": [],
   "source": [
    "df_train_full, df_test = train_test_split(cars, test_size=0.2, random_state=1)\n",
    "df_train, df_val = train_test_split(df_train_full, test_size=0.33, random_state=1)"
   ]
  },
  {
   "cell_type": "code",
   "execution_count": 49,
   "id": "5da3d5f3-f9be-4ef3-9cac-699d4bac0c8b",
   "metadata": {},
   "outputs": [
    {
     "name": "stdout",
     "output_type": "stream",
     "text": [
      "engine_fuel_type\n",
      "['premium_unleaded_(recommended)' 'regular_unleaded'\n",
      " 'premium_unleaded_(required)' 'flex-fuel_(unleaded/e85)'\n",
      " 'flex-fuel_(premium_unleaded_required/e85)' 'electric' 'diesel'\n",
      " 'flex-fuel_(premium_unleaded_recommended/e85)'\n",
      " 'flex-fuel_(unleaded/natural_gas)']\n",
      "\n",
      "transmission_type\n",
      "['automatic' 'manual' 'automated_manual' 'direct_drive' 'unknown']\n",
      "\n",
      "driven_wheels\n",
      "['front_wheel_drive' 'all_wheel_drive' 'four_wheel_drive'\n",
      " 'rear_wheel_drive']\n",
      "\n",
      "vehicle_size\n",
      "['midsize' 'compact' 'large']\n",
      "\n",
      "vehicle_style\n",
      "['sedan' '4dr_suv' '4dr_hatchback' '2dr_suv' '2dr_hatchback' 'coupe'\n",
      " 'crew_cab_pickup' 'wagon' 'convertible' 'extended_cab_pickup'\n",
      " 'regular_cab_pickup' 'cargo_van' 'cargo_minivan' 'passenger_van'\n",
      " 'passenger_minivan' 'convertible_suv']\n",
      "\n"
     ]
    }
   ],
   "source": [
    "for feature in categorical:\n",
    "    if df_train_full[feature].nunique() <= 16:\n",
    "        print(feature)\n",
    "        print(df_train_full[feature].unique())\n",
    "        print()"
   ]
  },
  {
   "cell_type": "markdown",
   "id": "ed723149-e8df-43aa-84e8-01167017a872",
   "metadata": {},
   "source": [
    "## Feature Importance"
   ]
  },
  {
   "cell_type": "markdown",
   "id": "b33154f9-fff9-4cf8-9be8-eca2860a54a8",
   "metadata": {},
   "source": [
    "### Mutual Information"
   ]
  },
  {
   "cell_type": "code",
   "execution_count": 23,
   "id": "7abdd7a5-9ae4-441f-ad02-55bdfd194931",
   "metadata": {},
   "outputs": [
    {
     "data": {
      "text/plain": [
       "model                0.461924\n",
       "make                 0.227155\n",
       "engine_fuel_type     0.153522\n",
       "driven_wheels        0.098708\n",
       "vehicle_style        0.090020\n",
       "vehicle_size         0.028881\n",
       "transmission_type    0.005871\n",
       "dtype: float64"
      ]
     },
     "execution_count": 23,
     "metadata": {},
     "output_type": "execute_result"
    }
   ],
   "source": [
    "from sklearn.metrics import mutual_info_score\n",
    "\n",
    "def calculate_mi(series):\n",
    "    return mutual_info_score(series, df_train_full.above_average)\n",
    "\n",
    "df_train_full.dropna(inplace=True)\n",
    "mi_scores = df_train_full[categorical].apply(calculate_mi)\n",
    "mi_scores.sort_values(ascending=False)"
   ]
  },
  {
   "cell_type": "markdown",
   "id": "186fe40d-0277-4fab-8e2a-5eed60680ada",
   "metadata": {},
   "source": [
    "### Correlation Coefficient"
   ]
  },
  {
   "cell_type": "code",
   "execution_count": 24,
   "id": "f42c1aee-30f4-42d8-87ce-4ebf3fd2e590",
   "metadata": {},
   "outputs": [
    {
     "data": {
      "text/plain": [
       "engine_hp          -0.660259\n",
       "engine_cylinders   -0.526025\n",
       "msrp               -0.509839\n",
       "year               -0.173952\n",
       "popularity          0.017847\n",
       "number_of_doors     0.144071\n",
       "highway_mpg         0.180728\n",
       "city_mpg            0.196060\n",
       "dtype: float64"
      ]
     },
     "execution_count": 24,
     "metadata": {},
     "output_type": "execute_result"
    }
   ],
   "source": [
    "df_train_full[numerical].corrwith(df_train_full.above_average).sort_values(ascending=True)"
   ]
  },
  {
   "cell_type": "code",
   "execution_count": 25,
   "id": "7f02ac73-36ac-43c5-ae28-3f5436e7b5bf",
   "metadata": {},
   "outputs": [
    {
     "data": {
      "text/plain": [
       "highway_mpg        -0.199950\n",
       "city_mpg           -0.189692\n",
       "number_of_doors    -0.174963\n",
       "popularity         -0.049570\n",
       "year                0.125311\n",
       "engine_cylinders    0.554486\n",
       "engine_hp           0.628689\n",
       "msrp                1.000000\n",
       "dtype: float64"
      ]
     },
     "execution_count": 25,
     "metadata": {},
     "output_type": "execute_result"
    }
   ],
   "source": [
    "df_train_full[numerical].corrwith(df_train_full.msrp).sort_values(ascending=True)"
   ]
  },
  {
   "cell_type": "markdown",
   "id": "26bf6ec7-7ad2-42be-95f8-7ef933727ebb",
   "metadata": {},
   "source": [
    "## Fearure Engineering"
   ]
  },
  {
   "cell_type": "code",
   "execution_count": 34,
   "id": "79d2f82c-e082-4edd-85ea-ff3442275441",
   "metadata": {},
   "outputs": [],
   "source": [
    "# Millas por galón promedio\n",
    "df_train_full['mpg_avg'] = df_train_full['highway_mpg'] + df_train_full['city_mpg'] / 2\n"
   ]
  },
  {
   "cell_type": "code",
   "execution_count": 31,
   "id": "dda0d204-b7a1-48c0-b9c3-9d4680137e4b",
   "metadata": {},
   "outputs": [
    {
     "data": {
      "text/plain": [
       "6727     35.5\n",
       "8386     40.0\n",
       "4714     54.0\n",
       "10518    32.0\n",
       "9832     35.0\n",
       "         ... \n",
       "11618    35.5\n",
       "7349     44.5\n",
       "5675     41.5\n",
       "262      32.5\n",
       "7290     38.0\n",
       "Name: mpg_avg, Length: 6532, dtype: float64"
      ]
     },
     "execution_count": 31,
     "metadata": {},
     "output_type": "execute_result"
    }
   ],
   "source": [
    "df_train_full['mpg_avg']"
   ]
  },
  {
   "cell_type": "code",
   "execution_count": 26,
   "id": "118c6bd0-a34c-4191-ae36-6732c7ee6d29",
   "metadata": {},
   "outputs": [
    {
     "ename": "NameError",
     "evalue": "name 'y_train' is not defined",
     "output_type": "error",
     "traceback": [
      "\u001b[0;31m---------------------------------------------------------------------------\u001b[0m",
      "\u001b[0;31mNameError\u001b[0m                                 Traceback (most recent call last)",
      "Cell \u001b[0;32mIn[26], line 12\u001b[0m\n\u001b[1;32m      9\u001b[0m model \u001b[38;5;241m=\u001b[39m LogisticRegression(solver\u001b[38;5;241m=\u001b[39m\u001b[38;5;124m'\u001b[39m\u001b[38;5;124mliblinear\u001b[39m\u001b[38;5;124m'\u001b[39m)\n\u001b[1;32m     11\u001b[0m \u001b[38;5;66;03m# Entrena el modelo de regresión logística\u001b[39;00m\n\u001b[0;32m---> 12\u001b[0m model\u001b[38;5;241m.\u001b[39mfit(X_train, \u001b[43my_train\u001b[49m)\n\u001b[1;32m     14\u001b[0m val_dict \u001b[38;5;241m=\u001b[39m df_val\u001b[38;5;241m.\u001b[39mto_dict(orient\u001b[38;5;241m=\u001b[39m\u001b[38;5;124m'\u001b[39m\u001b[38;5;124mrecords\u001b[39m\u001b[38;5;124m'\u001b[39m)\n\u001b[1;32m     15\u001b[0m X_val \u001b[38;5;241m=\u001b[39m dv\u001b[38;5;241m.\u001b[39mtransform(val_dict)\n",
      "\u001b[0;31mNameError\u001b[0m: name 'y_train' is not defined"
     ]
    }
   ],
   "source": [
    "# Importa la clase Dict vectorizer para convertir datos categóricos en formato dicciionario a formato numérico\n",
    "dv = DictVectorizer(sparse=False)\n",
    "\n",
    "# Convierte el conjunto de entrenamiento en un formato de lista de diccionarios\n",
    "train_dict = df_train.to_dict(orient='records')\n",
    "X_train = dv.fit_transform(train_dict)\n",
    "\n",
    "# Crea un modelo de regresión logística\n",
    "model = LogisticRegression(solver='liblinear')\n",
    "\n",
    "# Entrena el modelo de regresión logística\n",
    "model.fit(X_train, y_train)\n",
    "\n",
    "val_dict = df_val.to_dict(orient='records')\n",
    "X_val = dv.transform(val_dict)\n",
    "\n",
    "y_pred = model.predict_proba(X_val)[:, 1]\n",
    "y_pred"
   ]
  },
  {
   "cell_type": "code",
   "execution_count": null,
   "id": "a1c79bae-6f66-4ce8-9f7d-9aeac1ebd0b0",
   "metadata": {},
   "outputs": [],
   "source": [
    "from sklearn.metrics import accuracy_score, precision_score, recall_score\n",
    "\n",
    "prob = (y_pred >= .5).astype(int)\n",
    "acc = accuracy_score(y_val, prob).round(1)\n",
    "prec = precision_score(y_val, prob).round(1)\n",
    "rec = recall_score(y_val, prob).round(1)\n",
    "\n",
    "print(acc)\n",
    "print(prec)\n",
    "print(rec)\n"
   ]
  },
  {
   "cell_type": "code",
   "execution_count": null,
   "id": "dcc602d6-5be3-4bd2-b0da-0e1ef0225ff4",
   "metadata": {},
   "outputs": [],
   "source": [
    "thresholds = np.linspace(0, 1, 101)\n",
    "\n",
    "accuracies = []\n",
    "for t in thresholds:\n",
    "    prob = y_pred >= t\n",
    "    acc = accuracy_score(y_val, prob >= t)\n",
    "    accuracies.append(acc)\n",
    "    \n",
    "\n",
    "plt.plot(thresholds, accuracies)"
   ]
  },
  {
   "cell_type": "code",
   "execution_count": null,
   "id": "2b3cbc37-bfb4-4269-832d-cf59b92c3f32",
   "metadata": {},
   "outputs": [],
   "source": []
  },
  {
   "cell_type": "markdown",
   "id": "06c81d78-4915-4bc9-b270-0cc3484fe3e2",
   "metadata": {},
   "source": [
    "### Precision and Recall"
   ]
  },
  {
   "cell_type": "code",
   "execution_count": null,
   "id": "f3f84729-3694-4671-8ba9-48aed7e5ca09",
   "metadata": {},
   "outputs": [],
   "source": [
    "from sklearn.metrics import precision_score, recall_score, precision_recall_curve"
   ]
  },
  {
   "cell_type": "code",
   "execution_count": null,
   "id": "c8219fa9-3b6d-4e1d-aeb4-0e8ad4cd6271",
   "metadata": {},
   "outputs": [],
   "source": [
    "precisions, recalls, thresholds = precision_recall_curve(y_val, y_pred)\n",
    "\n",
    "def plot_precision_recall_vs_thresholds(precisions, recalls, thresholds):\n",
    "    plt.plot(thresholds, precisions[:-1], \"b--\", label=\"Precision\")\n",
    "    plt.plot(thresholds, recalls[:-1], \"g-\", label=\"Recalls\")\n",
    "\n",
    "\n",
    "plot_precision_recall_vs_thresholds(precisions, recalls, thresholds)\n",
    "plt.show()"
   ]
  },
  {
   "cell_type": "code",
   "execution_count": null,
   "id": "d8d8a6db-a786-43b5-90ca-e062d3d200bc",
   "metadata": {},
   "outputs": [],
   "source": [
    "\n",
    "plt.plot(thresholds, precisions[:-1], \"b--\", label=\"Precision\")"
   ]
  },
  {
   "cell_type": "code",
   "execution_count": null,
   "id": "484c1529-ef8d-4005-ac05-cd6456a39aeb",
   "metadata": {},
   "outputs": [],
   "source": [
    "plt.plot(recalls, precisions, \"g-\")\n",
    "plt.title(\"Precision vs Recall\")\n",
    "plt.xlabel(\"Recall\")\n",
    "plt.ylabel(\"Precision\")\n",
    "plt.show()"
   ]
  },
  {
   "cell_type": "code",
   "execution_count": null,
   "id": "5ee2cc78-b027-478d-8f0c-87b49f279ebf",
   "metadata": {},
   "outputs": [],
   "source": []
  }
 ],
 "metadata": {
  "kernelspec": {
   "display_name": "Python 3 (ipykernel)",
   "language": "python",
   "name": "python3"
  },
  "language_info": {
   "codemirror_mode": {
    "name": "ipython",
    "version": 3
   },
   "file_extension": ".py",
   "mimetype": "text/x-python",
   "name": "python",
   "nbconvert_exporter": "python",
   "pygments_lexer": "ipython3",
   "version": "3.10.11"
  }
 },
 "nbformat": 4,
 "nbformat_minor": 5
}
