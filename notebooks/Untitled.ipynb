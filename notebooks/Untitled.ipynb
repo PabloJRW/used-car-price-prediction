{
 "cells": [
  {
   "cell_type": "code",
   "execution_count": 1,
   "id": "dfeb5467-5620-45b9-b960-4e927c022dad",
   "metadata": {},
   "outputs": [],
   "source": [
    "import os\n",
    "import numpy as np\n",
    "import pandas as pd\n",
    "import matplotlib.pyplot as plt\n",
    "import seaborn as sns\n",
    "from sklearn.model_selection import train_test_split\n",
    "from sklearn.feature_extraction import DictVectorizer\n",
    "from sklearn.linear_model import LogisticRegression\n",
    "from sklearn.metrics import accuracy_score\n",
    "from sklearn.metrics import roc_auc_score"
   ]
  },
  {
   "cell_type": "code",
   "execution_count": 2,
   "id": "96d4f51e-0493-4930-b642-5fe9e2497a72",
   "metadata": {},
   "outputs": [
    {
     "data": {
      "text/html": [
       "<div>\n",
       "<style scoped>\n",
       "    .dataframe tbody tr th:only-of-type {\n",
       "        vertical-align: middle;\n",
       "    }\n",
       "\n",
       "    .dataframe tbody tr th {\n",
       "        vertical-align: top;\n",
       "    }\n",
       "\n",
       "    .dataframe thead th {\n",
       "        text-align: right;\n",
       "    }\n",
       "</style>\n",
       "<table border=\"1\" class=\"dataframe\">\n",
       "  <thead>\n",
       "    <tr style=\"text-align: right;\">\n",
       "      <th></th>\n",
       "      <th>Make</th>\n",
       "      <th>Model</th>\n",
       "      <th>Year</th>\n",
       "      <th>Engine Fuel Type</th>\n",
       "      <th>Engine HP</th>\n",
       "      <th>Engine Cylinders</th>\n",
       "      <th>Transmission Type</th>\n",
       "      <th>Driven_Wheels</th>\n",
       "      <th>Number of Doors</th>\n",
       "      <th>Market Category</th>\n",
       "      <th>Vehicle Size</th>\n",
       "      <th>Vehicle Style</th>\n",
       "      <th>highway MPG</th>\n",
       "      <th>city mpg</th>\n",
       "      <th>Popularity</th>\n",
       "      <th>MSRP</th>\n",
       "    </tr>\n",
       "  </thead>\n",
       "  <tbody>\n",
       "    <tr>\n",
       "      <th>5591</th>\n",
       "      <td>Lexus</td>\n",
       "      <td>GS 460</td>\n",
       "      <td>2010</td>\n",
       "      <td>premium unleaded (required)</td>\n",
       "      <td>342.0</td>\n",
       "      <td>8.0</td>\n",
       "      <td>AUTOMATIC</td>\n",
       "      <td>rear wheel drive</td>\n",
       "      <td>4.0</td>\n",
       "      <td>Luxury,High-Performance</td>\n",
       "      <td>Midsize</td>\n",
       "      <td>Sedan</td>\n",
       "      <td>24</td>\n",
       "      <td>17</td>\n",
       "      <td>454</td>\n",
       "      <td>54070</td>\n",
       "    </tr>\n",
       "    <tr>\n",
       "      <th>6538</th>\n",
       "      <td>Buick</td>\n",
       "      <td>Lucerne</td>\n",
       "      <td>2010</td>\n",
       "      <td>flex-fuel (unleaded/E85)</td>\n",
       "      <td>227.0</td>\n",
       "      <td>6.0</td>\n",
       "      <td>AUTOMATIC</td>\n",
       "      <td>front wheel drive</td>\n",
       "      <td>4.0</td>\n",
       "      <td>Flex Fuel</td>\n",
       "      <td>Large</td>\n",
       "      <td>Sedan</td>\n",
       "      <td>26</td>\n",
       "      <td>17</td>\n",
       "      <td>155</td>\n",
       "      <td>32730</td>\n",
       "    </tr>\n",
       "    <tr>\n",
       "      <th>3575</th>\n",
       "      <td>Land Rover</td>\n",
       "      <td>Discovery Series II</td>\n",
       "      <td>2000</td>\n",
       "      <td>regular unleaded</td>\n",
       "      <td>188.0</td>\n",
       "      <td>8.0</td>\n",
       "      <td>AUTOMATIC</td>\n",
       "      <td>all wheel drive</td>\n",
       "      <td>4.0</td>\n",
       "      <td>Luxury</td>\n",
       "      <td>Midsize</td>\n",
       "      <td>4dr SUV</td>\n",
       "      <td>16</td>\n",
       "      <td>12</td>\n",
       "      <td>258</td>\n",
       "      <td>2561</td>\n",
       "    </tr>\n",
       "    <tr>\n",
       "      <th>422</th>\n",
       "      <td>BMW</td>\n",
       "      <td>4 Series Gran Coupe</td>\n",
       "      <td>2017</td>\n",
       "      <td>premium unleaded (recommended)</td>\n",
       "      <td>320.0</td>\n",
       "      <td>6.0</td>\n",
       "      <td>AUTOMATIC</td>\n",
       "      <td>all wheel drive</td>\n",
       "      <td>4.0</td>\n",
       "      <td>Luxury,Performance</td>\n",
       "      <td>Midsize</td>\n",
       "      <td>Sedan</td>\n",
       "      <td>31</td>\n",
       "      <td>21</td>\n",
       "      <td>3916</td>\n",
       "      <td>50300</td>\n",
       "    </tr>\n",
       "    <tr>\n",
       "      <th>11236</th>\n",
       "      <td>Hyundai</td>\n",
       "      <td>Veloster</td>\n",
       "      <td>2016</td>\n",
       "      <td>regular unleaded</td>\n",
       "      <td>132.0</td>\n",
       "      <td>4.0</td>\n",
       "      <td>AUTOMATED_MANUAL</td>\n",
       "      <td>front wheel drive</td>\n",
       "      <td>3.0</td>\n",
       "      <td>Hatchback</td>\n",
       "      <td>Compact</td>\n",
       "      <td>2dr Hatchback</td>\n",
       "      <td>36</td>\n",
       "      <td>28</td>\n",
       "      <td>1439</td>\n",
       "      <td>19100</td>\n",
       "    </tr>\n",
       "    <tr>\n",
       "      <th>8699</th>\n",
       "      <td>Mazda</td>\n",
       "      <td>RX-8</td>\n",
       "      <td>2009</td>\n",
       "      <td>premium unleaded (required)</td>\n",
       "      <td>212.0</td>\n",
       "      <td>NaN</td>\n",
       "      <td>AUTOMATIC</td>\n",
       "      <td>rear wheel drive</td>\n",
       "      <td>4.0</td>\n",
       "      <td>Performance</td>\n",
       "      <td>Compact</td>\n",
       "      <td>Coupe</td>\n",
       "      <td>23</td>\n",
       "      <td>16</td>\n",
       "      <td>586</td>\n",
       "      <td>26435</td>\n",
       "    </tr>\n",
       "    <tr>\n",
       "      <th>6462</th>\n",
       "      <td>Land Rover</td>\n",
       "      <td>LR3</td>\n",
       "      <td>2009</td>\n",
       "      <td>premium unleaded (required)</td>\n",
       "      <td>300.0</td>\n",
       "      <td>8.0</td>\n",
       "      <td>AUTOMATIC</td>\n",
       "      <td>four wheel drive</td>\n",
       "      <td>4.0</td>\n",
       "      <td>Luxury</td>\n",
       "      <td>Midsize</td>\n",
       "      <td>4dr SUV</td>\n",
       "      <td>17</td>\n",
       "      <td>12</td>\n",
       "      <td>258</td>\n",
       "      <td>45975</td>\n",
       "    </tr>\n",
       "    <tr>\n",
       "      <th>11234</th>\n",
       "      <td>Hyundai</td>\n",
       "      <td>Veloster</td>\n",
       "      <td>2015</td>\n",
       "      <td>regular unleaded</td>\n",
       "      <td>201.0</td>\n",
       "      <td>4.0</td>\n",
       "      <td>MANUAL</td>\n",
       "      <td>front wheel drive</td>\n",
       "      <td>3.0</td>\n",
       "      <td>Hatchback,Performance</td>\n",
       "      <td>Compact</td>\n",
       "      <td>2dr Hatchback</td>\n",
       "      <td>33</td>\n",
       "      <td>24</td>\n",
       "      <td>1439</td>\n",
       "      <td>22600</td>\n",
       "    </tr>\n",
       "    <tr>\n",
       "      <th>3499</th>\n",
       "      <td>Dodge</td>\n",
       "      <td>Dart</td>\n",
       "      <td>2016</td>\n",
       "      <td>regular unleaded</td>\n",
       "      <td>160.0</td>\n",
       "      <td>4.0</td>\n",
       "      <td>MANUAL</td>\n",
       "      <td>front wheel drive</td>\n",
       "      <td>4.0</td>\n",
       "      <td>NaN</td>\n",
       "      <td>Midsize</td>\n",
       "      <td>Sedan</td>\n",
       "      <td>36</td>\n",
       "      <td>25</td>\n",
       "      <td>1851</td>\n",
       "      <td>19595</td>\n",
       "    </tr>\n",
       "    <tr>\n",
       "      <th>11314</th>\n",
       "      <td>Buick</td>\n",
       "      <td>Verano</td>\n",
       "      <td>2016</td>\n",
       "      <td>regular unleaded</td>\n",
       "      <td>180.0</td>\n",
       "      <td>4.0</td>\n",
       "      <td>AUTOMATIC</td>\n",
       "      <td>front wheel drive</td>\n",
       "      <td>4.0</td>\n",
       "      <td>NaN</td>\n",
       "      <td>Midsize</td>\n",
       "      <td>Sedan</td>\n",
       "      <td>32</td>\n",
       "      <td>21</td>\n",
       "      <td>155</td>\n",
       "      <td>24065</td>\n",
       "    </tr>\n",
       "  </tbody>\n",
       "</table>\n",
       "</div>"
      ],
      "text/plain": [
       "             Make                Model  Year                Engine Fuel Type  \\\n",
       "5591        Lexus               GS 460  2010     premium unleaded (required)   \n",
       "6538        Buick              Lucerne  2010        flex-fuel (unleaded/E85)   \n",
       "3575   Land Rover  Discovery Series II  2000                regular unleaded   \n",
       "422           BMW  4 Series Gran Coupe  2017  premium unleaded (recommended)   \n",
       "11236     Hyundai             Veloster  2016                regular unleaded   \n",
       "8699        Mazda                 RX-8  2009     premium unleaded (required)   \n",
       "6462   Land Rover                  LR3  2009     premium unleaded (required)   \n",
       "11234     Hyundai             Veloster  2015                regular unleaded   \n",
       "3499        Dodge                 Dart  2016                regular unleaded   \n",
       "11314       Buick               Verano  2016                regular unleaded   \n",
       "\n",
       "       Engine HP  Engine Cylinders Transmission Type      Driven_Wheels  \\\n",
       "5591       342.0               8.0         AUTOMATIC   rear wheel drive   \n",
       "6538       227.0               6.0         AUTOMATIC  front wheel drive   \n",
       "3575       188.0               8.0         AUTOMATIC    all wheel drive   \n",
       "422        320.0               6.0         AUTOMATIC    all wheel drive   \n",
       "11236      132.0               4.0  AUTOMATED_MANUAL  front wheel drive   \n",
       "8699       212.0               NaN         AUTOMATIC   rear wheel drive   \n",
       "6462       300.0               8.0         AUTOMATIC   four wheel drive   \n",
       "11234      201.0               4.0            MANUAL  front wheel drive   \n",
       "3499       160.0               4.0            MANUAL  front wheel drive   \n",
       "11314      180.0               4.0         AUTOMATIC  front wheel drive   \n",
       "\n",
       "       Number of Doors          Market Category Vehicle Size  Vehicle Style  \\\n",
       "5591               4.0  Luxury,High-Performance      Midsize          Sedan   \n",
       "6538               4.0                Flex Fuel        Large          Sedan   \n",
       "3575               4.0                   Luxury      Midsize        4dr SUV   \n",
       "422                4.0       Luxury,Performance      Midsize          Sedan   \n",
       "11236              3.0                Hatchback      Compact  2dr Hatchback   \n",
       "8699               4.0              Performance      Compact          Coupe   \n",
       "6462               4.0                   Luxury      Midsize        4dr SUV   \n",
       "11234              3.0    Hatchback,Performance      Compact  2dr Hatchback   \n",
       "3499               4.0                      NaN      Midsize          Sedan   \n",
       "11314              4.0                      NaN      Midsize          Sedan   \n",
       "\n",
       "       highway MPG  city mpg  Popularity   MSRP  \n",
       "5591            24        17         454  54070  \n",
       "6538            26        17         155  32730  \n",
       "3575            16        12         258   2561  \n",
       "422             31        21        3916  50300  \n",
       "11236           36        28        1439  19100  \n",
       "8699            23        16         586  26435  \n",
       "6462            17        12         258  45975  \n",
       "11234           33        24        1439  22600  \n",
       "3499            36        25        1851  19595  \n",
       "11314           32        21         155  24065  "
      ]
     },
     "execution_count": 2,
     "metadata": {},
     "output_type": "execute_result"
    }
   ],
   "source": [
    "csv_path = os.path.join('..','datasets','raw','data.csv')\n",
    "df = pd.read_csv(csv_path)\n",
    "df.sample(10)"
   ]
  },
  {
   "cell_type": "code",
   "execution_count": 3,
   "id": "9bb06400-20bc-41c7-8bcf-c7658831451b",
   "metadata": {},
   "outputs": [
    {
     "name": "stdout",
     "output_type": "stream",
     "text": [
      "<class 'pandas.core.frame.DataFrame'>\n",
      "RangeIndex: 11914 entries, 0 to 11913\n",
      "Data columns (total 16 columns):\n",
      " #   Column             Non-Null Count  Dtype  \n",
      "---  ------             --------------  -----  \n",
      " 0   Make               11914 non-null  object \n",
      " 1   Model              11914 non-null  object \n",
      " 2   Year               11914 non-null  int64  \n",
      " 3   Engine Fuel Type   11911 non-null  object \n",
      " 4   Engine HP          11845 non-null  float64\n",
      " 5   Engine Cylinders   11884 non-null  float64\n",
      " 6   Transmission Type  11914 non-null  object \n",
      " 7   Driven_Wheels      11914 non-null  object \n",
      " 8   Number of Doors    11908 non-null  float64\n",
      " 9   Market Category    8172 non-null   object \n",
      " 10  Vehicle Size       11914 non-null  object \n",
      " 11  Vehicle Style      11914 non-null  object \n",
      " 12  highway MPG        11914 non-null  int64  \n",
      " 13  city mpg           11914 non-null  int64  \n",
      " 14  Popularity         11914 non-null  int64  \n",
      " 15  MSRP               11914 non-null  int64  \n",
      "dtypes: float64(3), int64(5), object(8)\n",
      "memory usage: 1.5+ MB\n"
     ]
    }
   ],
   "source": [
    "df.info()"
   ]
  },
  {
   "cell_type": "code",
   "execution_count": 4,
   "id": "0d8e3c57-66bd-4476-8527-7432d5a67187",
   "metadata": {},
   "outputs": [
    {
     "data": {
      "text/html": [
       "<div>\n",
       "<style scoped>\n",
       "    .dataframe tbody tr th:only-of-type {\n",
       "        vertical-align: middle;\n",
       "    }\n",
       "\n",
       "    .dataframe tbody tr th {\n",
       "        vertical-align: top;\n",
       "    }\n",
       "\n",
       "    .dataframe thead th {\n",
       "        text-align: right;\n",
       "    }\n",
       "</style>\n",
       "<table border=\"1\" class=\"dataframe\">\n",
       "  <thead>\n",
       "    <tr style=\"text-align: right;\">\n",
       "      <th></th>\n",
       "      <th>make</th>\n",
       "      <th>model</th>\n",
       "      <th>year</th>\n",
       "      <th>engine_hp</th>\n",
       "      <th>engine_cylinders</th>\n",
       "      <th>transmission_type</th>\n",
       "      <th>vehicle_style</th>\n",
       "      <th>highway_mpg</th>\n",
       "      <th>city_mpg</th>\n",
       "      <th>msrp</th>\n",
       "    </tr>\n",
       "  </thead>\n",
       "  <tbody>\n",
       "    <tr>\n",
       "      <th>6166</th>\n",
       "      <td>gmc</td>\n",
       "      <td>jimmy</td>\n",
       "      <td>2000</td>\n",
       "      <td>190.0</td>\n",
       "      <td>6.0</td>\n",
       "      <td>manual</td>\n",
       "      <td>2dr_suv</td>\n",
       "      <td>16</td>\n",
       "      <td>13</td>\n",
       "      <td>2463</td>\n",
       "    </tr>\n",
       "    <tr>\n",
       "      <th>5302</th>\n",
       "      <td>mercedes-benz</td>\n",
       "      <td>gla-class</td>\n",
       "      <td>2016</td>\n",
       "      <td>208.0</td>\n",
       "      <td>4.0</td>\n",
       "      <td>automated_manual</td>\n",
       "      <td>4dr_suv</td>\n",
       "      <td>32</td>\n",
       "      <td>24</td>\n",
       "      <td>34500</td>\n",
       "    </tr>\n",
       "    <tr>\n",
       "      <th>9104</th>\n",
       "      <td>nissan</td>\n",
       "      <td>sentra</td>\n",
       "      <td>2017</td>\n",
       "      <td>124.0</td>\n",
       "      <td>4.0</td>\n",
       "      <td>automatic</td>\n",
       "      <td>sedan</td>\n",
       "      <td>37</td>\n",
       "      <td>29</td>\n",
       "      <td>17990</td>\n",
       "    </tr>\n",
       "    <tr>\n",
       "      <th>11308</th>\n",
       "      <td>buick</td>\n",
       "      <td>verano</td>\n",
       "      <td>2015</td>\n",
       "      <td>250.0</td>\n",
       "      <td>4.0</td>\n",
       "      <td>automatic</td>\n",
       "      <td>sedan</td>\n",
       "      <td>30</td>\n",
       "      <td>21</td>\n",
       "      <td>29215</td>\n",
       "    </tr>\n",
       "    <tr>\n",
       "      <th>11215</th>\n",
       "      <td>mitsubishi</td>\n",
       "      <td>vanwagon</td>\n",
       "      <td>1990</td>\n",
       "      <td>107.0</td>\n",
       "      <td>4.0</td>\n",
       "      <td>automatic</td>\n",
       "      <td>cargo_minivan</td>\n",
       "      <td>20</td>\n",
       "      <td>18</td>\n",
       "      <td>2000</td>\n",
       "    </tr>\n",
       "  </tbody>\n",
       "</table>\n",
       "</div>"
      ],
      "text/plain": [
       "                make      model  year  engine_hp  engine_cylinders  \\\n",
       "6166             gmc      jimmy  2000      190.0               6.0   \n",
       "5302   mercedes-benz  gla-class  2016      208.0               4.0   \n",
       "9104          nissan     sentra  2017      124.0               4.0   \n",
       "11308          buick     verano  2015      250.0               4.0   \n",
       "11215     mitsubishi   vanwagon  1990      107.0               4.0   \n",
       "\n",
       "      transmission_type  vehicle_style  highway_mpg  city_mpg   msrp  \n",
       "6166             manual        2dr_suv           16        13   2463  \n",
       "5302   automated_manual        4dr_suv           32        24  34500  \n",
       "9104          automatic          sedan           37        29  17990  \n",
       "11308         automatic          sedan           30        21  29215  \n",
       "11215         automatic  cargo_minivan           20        18   2000  "
      ]
     },
     "execution_count": 4,
     "metadata": {},
     "output_type": "execute_result"
    }
   ],
   "source": [
    "my_variables = ['Make','Model','Year','Engine HP','Engine Cylinders','Transmission Type','Vehicle Style','highway MPG','city mpg','MSRP']\n",
    "cars = df[my_variables].copy()\n",
    "\n",
    "# Lowercase the column names and replace spaces with underscores\n",
    "cars.columns = cars.columns.str.lower().str.replace(' ','_')\n",
    "categorical_columns = list(cars.dtypes[cars.dtypes == 'object'].index)\n",
    "\n",
    "for c in categorical_columns:\n",
    "    cars[c] = cars[c].str.lower().str.replace(' ', '_')\n",
    "    \n",
    "cars.sample(5)"
   ]
  },
  {
   "cell_type": "code",
   "execution_count": 5,
   "id": "42e53b07-5a99-407d-87cc-e80875d50115",
   "metadata": {},
   "outputs": [],
   "source": [
    "# Lowercase the column names and replace spaces with underscores\n",
    "cars.columns = cars.columns.str.lower().str.replace(' ','_')"
   ]
  },
  {
   "cell_type": "code",
   "execution_count": 6,
   "id": "25e2b03e-a135-4e67-9493-e4ebe0421c99",
   "metadata": {},
   "outputs": [
    {
     "data": {
      "text/plain": [
       "make                  0\n",
       "model                 0\n",
       "year                  0\n",
       "engine_hp            69\n",
       "engine_cylinders     30\n",
       "transmission_type     0\n",
       "vehicle_style         0\n",
       "highway_mpg           0\n",
       "city_mpg              0\n",
       "msrp                  0\n",
       "dtype: int64"
      ]
     },
     "execution_count": 6,
     "metadata": {},
     "output_type": "execute_result"
    }
   ],
   "source": [
    "# View missing values\n",
    "cars.isnull().sum()"
   ]
  },
  {
   "cell_type": "code",
   "execution_count": 7,
   "id": "24b4a3c8-aa2d-411a-b760-62ddf978e48d",
   "metadata": {},
   "outputs": [],
   "source": [
    "# FIll the missing values with 0\n",
    "cars[['engine_hp','engine_cylinders']] = cars[['engine_hp','engine_cylinders']].fillna(value=0)"
   ]
  },
  {
   "cell_type": "code",
   "execution_count": 8,
   "id": "c1296c67-e7dc-47d5-b31b-e6ed9c85735f",
   "metadata": {},
   "outputs": [
    {
     "data": {
      "text/plain": [
       "0        0\n",
       "1        0\n",
       "2        1\n",
       "3        1\n",
       "4        1\n",
       "        ..\n",
       "11909    0\n",
       "11910    0\n",
       "11911    0\n",
       "11912    0\n",
       "11913    1\n",
       "Name: above_average, Length: 11914, dtype: int64"
      ]
     },
     "execution_count": 8,
     "metadata": {},
     "output_type": "execute_result"
    }
   ],
   "source": [
    "msrp_mean = cars['msrp'].mean()\n",
    "# Binarizing msrp\n",
    "cars['above_average'] = (cars['msrp'] <= msrp_mean).astype(int)\n",
    "cars['above_average']"
   ]
  },
  {
   "cell_type": "code",
   "execution_count": 9,
   "id": "92c2956c-5334-4e46-9015-fbe696ad599c",
   "metadata": {},
   "outputs": [
    {
     "data": {
      "text/plain": [
       "(7148, 2383, 2383)"
      ]
     },
     "execution_count": 9,
     "metadata": {},
     "output_type": "execute_result"
    }
   ],
   "source": [
    "#features = cars.drop('msrp', axis=1).copy()\n",
    "#target = cars['msrp'].copy()\n",
    "\n",
    "df_full_train, df_test = train_test_split(cars, test_size=0.2, random_state=1)\n",
    "df_train, df_val = train_test_split(df_full_train, test_size=0.25, random_state=1)\n",
    "\n",
    "df_train = df_train.reset_index(drop=True)\n",
    "df_val = df_val.reset_index(drop=True)\n",
    "df_test = df_test.reset_index(drop=True)\n",
    "\n",
    "y_train = df_train.above_average.values\n",
    "y_val = df_val.above_average.values\n",
    "y_test = df_test.above_average.values\n",
    "\n",
    "del df_train['above_average']\n",
    "del df_val['above_average']\n",
    "del df_test['above_average']\n",
    "\n",
    "df_train.shape[0], df_test.shape[0], df_val.shape[0]"
   ]
  },
  {
   "cell_type": "code",
   "execution_count": 11,
   "id": "118c6bd0-a34c-4191-ae36-6732c7ee6d29",
   "metadata": {},
   "outputs": [
    {
     "data": {
      "text/plain": [
       "array([2.15181772e-005, 1.00000000e+000, 9.99999965e-001, ...,\n",
       "       1.00000000e+000, 3.31836817e-111, 1.00000000e+000])"
      ]
     },
     "execution_count": 11,
     "metadata": {},
     "output_type": "execute_result"
    }
   ],
   "source": [
    "dv = DictVectorizer(sparse=False)\n",
    "train_dict = df_train.to_dict(orient='records')\n",
    "X_train = dv.fit_transform(train_dict)\n",
    "\n",
    "model = LogisticRegression(solver='liblinear')\n",
    "model.fit(X_train, y_train)\n",
    "\n",
    "val_dict = df_val.to_dict(orient='records')\n",
    "X_val = dv.transform(val_dict)\n",
    "\n",
    "y_pred = model.predict_proba(X_val)[:, 1]\n",
    "y_pred"
   ]
  },
  {
   "cell_type": "code",
   "execution_count": 12,
   "id": "dcc602d6-5be3-4bd2-b0da-0e1ef0225ff4",
   "metadata": {},
   "outputs": [
    {
     "data": {
      "text/plain": [
       "[<matplotlib.lines.Line2D at 0x7f9089ee6500>]"
      ]
     },
     "execution_count": 12,
     "metadata": {},
     "output_type": "execute_result"
    },
    {
     "data": {
      "image/png": "[encoded data removed]",
      "text/plain": [
       "<Figure size 640x480 with 1 Axes>"
      ]
     },
     "metadata": {},
     "output_type": "display_data"
    }
   ],
   "source": [
    "thresholds = np.linspace(0, 1, 11)\n",
    "\n",
    "accuracies = []\n",
    "for t in thresholds:\n",
    "    prob = y_pred >= t\n",
    "    acc = accuracy_score(y_val, prob >= t)\n",
    "    accuracies.append(acc)\n",
    "    \n",
    "\n",
    "plt.plot(thresholds, accuracies)"
   ]
  },
  {
   "cell_type": "markdown",
   "id": "06c81d78-4915-4bc9-b270-0cc3484fe3e2",
   "metadata": {},
   "source": [
    "### Precision and Recall"
   ]
  },
  {
   "cell_type": "code",
   "execution_count": 13,
   "id": "f3f84729-3694-4671-8ba9-48aed7e5ca09",
   "metadata": {},
   "outputs": [],
   "source": [
    "from sklearn.metrics import precision_score, recall_score, precision_recall_curve"
   ]
  },
  {
   "cell_type": "code",
   "execution_count": 14,
   "id": "c8219fa9-3b6d-4e1d-aeb4-0e8ad4cd6271",
   "metadata": {},
   "outputs": [
    {
     "data": {
      "image/png": "[encoded data removed]",
      "text/plain": [
       "<Figure size 640x480 with 1 Axes>"
      ]
     },
     "metadata": {},
     "output_type": "display_data"
    }
   ],
   "source": [
    "precisions, recalls, thresholds = precision_recall_curve(y_val, y_pred)\n",
    "\n",
    "def plot_precision_recall_vs_thresholds(precisions, recalls, thresholds):\n",
    "    plt.plot(thresholds, precisions[:-1], \"b--\", label=\"Precision\")\n",
    "    plt.plot(thresholds, recalls[:-1], \"g-\", label=\"Recalls\")\n",
    "\n",
    "\n",
    "plot_precision_recall_vs_thresholds(precisions, recalls, thresholds)\n",
    "plt.show()"
   ]
  },
  {
   "cell_type": "code",
   "execution_count": null,
   "id": "d8d8a6db-a786-43b5-90ca-e062d3d200bc",
   "metadata": {},
   "outputs": [],
   "source": [
    "\n",
    "plt.plot(thresholds, precisions[:-1], \"b--\", label=\"Precision\")"
   ]
  },
  {
   "cell_type": "code",
   "execution_count": 20,
   "id": "484c1529-ef8d-4005-ac05-cd6456a39aeb",
   "metadata": {},
   "outputs": [
    {
     "data": {
      "image/png": "[encoded data removed]",
      "text/plain": [
       "<Figure size 640x480 with 1 Axes>"
      ]
     },
     "metadata": {},
     "output_type": "display_data"
    }
   ],
   "source": [
    "plt.plot(recalls, precisions, \"g-\")\n",
    "plt.title(\"Precision vs Recall\")\n",
    "plt.xlabel(\"Recall\")\n",
    "plt.ylabel(\"Precision\")\n",
    "plt.show()"
   ]
  },
  {
   "cell_type": "code",
   "execution_count": null,
   "id": "5ee2cc78-b027-478d-8f0c-87b49f279ebf",
   "metadata": {},
   "outputs": [],
   "source": []
  }
 ],
 "metadata": {
  "kernelspec": {
   "display_name": "Python 3 (ipykernel)",
   "language": "python",
   "name": "python3"
  },
  "language_info": {
   "codemirror_mode": {
    "name": "ipython",
    "version": 3
   },
   "file_extension": ".py",
   "mimetype": "text/x-python",
   "name": "python",
   "nbconvert_exporter": "python",
   "pygments_lexer": "ipython3",
   "version": "3.10.11"
  }
 },
 "nbformat": 4,
 "nbformat_minor": 5
}
